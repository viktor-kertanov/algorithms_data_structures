{
 "cells": [
  {
   "attachments": {},
   "cell_type": "markdown",
   "metadata": {},
   "source": [
    "### __Classes and Pointers__\n",
    "\n",
    "We'll use classes for all of our data structures."
   ]
  },
  {
   "cell_type": "code",
   "execution_count": 3,
   "metadata": {},
   "outputs": [
    {
     "name": "stdout",
     "output_type": "stream",
     "text": [
      "green\n",
      "brown\n",
      "blue\n"
     ]
    }
   ],
   "source": [
    "class Cookie:\n",
    "    def __init__(self, color):\n",
    "        self.color = color\n",
    "    \n",
    "    def set_color(self, new_color):\n",
    "        self.color = new_color\n",
    "\n",
    "cookie_one = Cookie('green')\n",
    "print(cookie_one.color)\n",
    "\n",
    "cookie_two = Cookie('brown')\n",
    "print(cookie_two.color)\n",
    "\n",
    "cookie_one.set_color('blue')\n",
    "print(cookie_one.color)\n",
    "\n"
   ]
  },
  {
   "attachments": {},
   "cell_type": "markdown",
   "metadata": {},
   "source": [
    "#### __Pointers__\n",
    "\n",
    "If we look at the code below there appear a few questions and important aspects.\n",
    "\n",
    "__num_1__ points to an integer __11__ that is stored in some memory space.\n",
    "But what happens when we set __num_2 = num_1__? Does __num_2__ points to the same memory location or to another memory location?\n",
    "\n",
    "Using __id()__ method we see that the location in the memory is the same.\n",
    "\n",
    "But if we change __num_2__ to be equal to __22__ then the memory location would be different. This happens because integers are __immutable__ - we __cannot__ overide them. "
   ]
  },
  {
   "cell_type": "code",
   "execution_count": 7,
   "metadata": {},
   "outputs": [
    {
     "name": "stdout",
     "output_type": "stream",
     "text": [
      "4332005120\n",
      "4332005120\n",
      "4332005120\n",
      "4332005472\n"
     ]
    }
   ],
   "source": [
    "num_1 = 11\n",
    "num_2 = num_1\n",
    "\n",
    "print(id(num_1))\n",
    "print(id(num_2))\n",
    "\n",
    "num_2 = 22\n",
    "print(id(num_1))\n",
    "print(id(num_2))"
   ]
  },
  {
   "attachments": {},
   "cell_type": "markdown",
   "metadata": {},
   "source": [
    "Let's look now at another data type, __dictionary__ and see what happens there.\n",
    "It is interesting that if we creat another vaiable that is equal to our first dict, then we'll have 2 variables that are pointing to the same object in memory.\n",
    "So if we change __test_dict__ then our __secon_dict__ also instantly changes.\n",
    "\n",
    "__Dictionary__ is a mutable type."
   ]
  },
  {
   "cell_type": "code",
   "execution_count": 11,
   "metadata": {},
   "outputs": [
    {
     "name": "stdout",
     "output_type": "stream",
     "text": [
      "4405730176\n",
      "4405730176\n",
      "4405730176\n",
      "4405730176\n",
      "{'value': 11, 'value_2': 777, 'value_3': 44}\n",
      "4405730176\n",
      "4405730176\n",
      "{'value': 666, 'value_2': 777, 'value_3': 44}\n"
     ]
    }
   ],
   "source": [
    "test_dict = {\n",
    "    'value': 11,\n",
    "    'value_2': 22,\n",
    "    'value_3': 44\n",
    "}\n",
    "\n",
    "second_dict = test_dict\n",
    "\n",
    "print(id(test_dict))\n",
    "print(id(second_dict))\n",
    "\n",
    "test_dict[\"value_2\"] = 777\n",
    "print(id(test_dict))\n",
    "print(id(second_dict))\n",
    "\n",
    "print(second_dict)\n",
    "\n",
    "second_dict[\"value\"] = 666\n",
    "print(id(test_dict))\n",
    "print(id(second_dict))\n",
    "\n",
    "print(test_dict)"
   ]
  },
  {
   "attachments": {},
   "cell_type": "markdown",
   "metadata": {},
   "source": [
    "All these concepts are very important for what we are going to learn. We'll set variable to be equal to other variables and they will be pointing to some e.g. __node__.\n",
    "\n",
    "In Python if there's no variable pointing to an object, meaning we cannot acces this object anyhow, Python will automatically remove this object. The process is called __garbage collection__."
   ]
  }
 ],
 "metadata": {
  "kernelspec": {
   "display_name": "env",
   "language": "python",
   "name": "python3"
  },
  "language_info": {
   "codemirror_mode": {
    "name": "ipython",
    "version": 3
   },
   "file_extension": ".py",
   "mimetype": "text/x-python",
   "name": "python",
   "nbconvert_exporter": "python",
   "pygments_lexer": "ipython3",
   "version": "3.11.1"
  },
  "orig_nbformat": 4,
  "vscode": {
   "interpreter": {
    "hash": "9635963bf173f30a7a1551d18948988dafea1becee11109689c4fa1105ac58ef"
   }
  }
 },
 "nbformat": 4,
 "nbformat_minor": 2
}
