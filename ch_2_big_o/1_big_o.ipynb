{
 "cells": [
  {
   "attachments": {},
   "cell_type": "markdown",
   "metadata": {},
   "source": [
    "### __Big O__\n",
    "\n",
    "#### __INTRO__\n",
    "\n",
    "Big O is a way to comapre several ways to implementation\n",
    "\n",
    "__Time complexity__ -- not measured in time because you can use a better computer and it will do the code faster. So Time complexity is measured in number of operations.\n",
    "\n",
    "We also measure __space complexity__. The code may take a lot of space in memory. A slower code can take less space. If preserving memory space is very important the slower code may be better.\n",
    "\n",
    "For the most part of the class we'll be dealing with the __time complexity__.\n",
    "\n",
    "#### __Worst case__\n",
    "\n",
    "$\\Omega$ - __best case__ scenario <br>\n",
    "$\\Theta$ - __average case__ scenario <br>\n",
    "$\\Omicron$ - __worst case__ scenario <br>\n",
    "\n",
    "If we need to find __1__ in the list __[1,2,3,4,5,6,7]__ we are lucky and that's $\\Omega$ case. Number __1__ is luckily in the first place.\n",
    "__7__ - worst case $\\Omicron$.\n",
    "__4__ - average case $\\Theta$\n",
    "\n",
    "#### __O(n)__\n",
    "\n",
    "So basically we have the code that runs n times. So we have n operations. __Proportional__ means __O(n)__\n",
    "\n",
    "\n",
    "\n"
   ]
  },
  {
   "cell_type": "code",
   "execution_count": 7,
   "metadata": {},
   "outputs": [
    {
     "name": "stdout",
     "output_type": "stream",
     "text": [
      "0\n",
      "1\n",
      "2\n",
      "3\n",
      "4\n"
     ]
    }
   ],
   "source": [
    "def print_items(n):\n",
    "    for i in range(n):\n",
    "        print(i)\n",
    "\n",
    "print_items(5) # That's O(5)"
   ]
  },
  {
   "attachments": {},
   "cell_type": "markdown",
   "metadata": {},
   "source": [
    "#### __Drop constants__\n",
    "\n",
    "The code below is actualy __O(2n)__, but we drop __2__ and it is still __O(n)__. It does not matter if we have __O(10n)__ or __O(20n)__ $\\Rightarrow$ it will still be for us __O(n)__ complexity. We drop constansts."
   ]
  },
  {
   "cell_type": "code",
   "execution_count": 8,
   "metadata": {},
   "outputs": [
    {
     "name": "stdout",
     "output_type": "stream",
     "text": [
      "0\n",
      "1\n",
      "2\n",
      "3\n",
      "4\n",
      "0\n",
      "1\n",
      "2\n",
      "3\n",
      "4\n"
     ]
    }
   ],
   "source": [
    "def print_items(n):\n",
    "    for i in range(n):\n",
    "        print(i)\n",
    "    for j in range(n):\n",
    "        print(j)\n",
    "\n",
    "print_items(5)"
   ]
  },
  {
   "attachments": {},
   "cell_type": "markdown",
   "metadata": {},
   "source": [
    "#### __O($n^2$)__\n",
    "\n",
    "The code below shows the example of __O($n^2$)__. It's like a loop inside of a loop.\n",
    "If we have a 3-nested for-loops, that would be __O($n^3$)__. But again we simplify it to the complexity of __O($n^2$)__. It is so much more inefficient than __O(n)__ so it does not matter.\n"
   ]
  },
  {
   "cell_type": "code",
   "execution_count": 9,
   "metadata": {},
   "outputs": [
    {
     "name": "stdout",
     "output_type": "stream",
     "text": [
      "0 0\n",
      "0 1\n",
      "0 2\n",
      "0 3\n",
      "0 4\n",
      "1 0\n",
      "1 1\n",
      "1 2\n",
      "1 3\n",
      "1 4\n",
      "2 0\n",
      "2 1\n",
      "2 2\n",
      "2 3\n",
      "2 4\n",
      "3 0\n",
      "3 1\n",
      "3 2\n",
      "3 3\n",
      "3 4\n",
      "4 0\n",
      "4 1\n",
      "4 2\n",
      "4 3\n",
      "4 4\n"
     ]
    }
   ],
   "source": [
    "def print_items(n):\n",
    "    for i in range(n):\n",
    "        for j in range(n):\n",
    "            print(i, j)\n",
    "print_items(5)"
   ]
  },
  {
   "attachments": {},
   "cell_type": "markdown",
   "metadata": {},
   "source": [
    "#### __Drop Non-Dominants__\n",
    "\n",
    "The code below shows the complexity __O($n^2$ +n)__. Again we don't care about the __n__ element as it is insignificant compared to $n^2$. We drop __n__ as it is non-dominant.\n"
   ]
  },
  {
   "cell_type": "code",
   "execution_count": 12,
   "metadata": {},
   "outputs": [
    {
     "name": "stdout",
     "output_type": "stream",
     "text": [
      "0 0\n",
      "0 1\n",
      "0 2\n",
      "1 0\n",
      "1 1\n",
      "1 2\n",
      "2 0\n",
      "2 1\n",
      "2 2\n",
      "0\n",
      "1\n",
      "2\n"
     ]
    }
   ],
   "source": [
    "def print_items(n):\n",
    "    for i in range(n):\n",
    "        for j in range(n):\n",
    "            print(i,j)\n",
    "    for k in range(n):\n",
    "        print(k)\n",
    "\n",
    "print_items(3)"
   ]
  },
  {
   "attachments": {},
   "cell_type": "markdown",
   "metadata": {},
   "source": [
    "#### __O(1)__\n",
    "\n",
    "__O(1)__ is called __constant_time__. It does not matter if we have __n+n+n+n__ or just __n+n__. That's all the same. We don't increase the number of operations. That's most efficient algorithm.\n"
   ]
  },
  {
   "cell_type": "code",
   "execution_count": null,
   "metadata": {},
   "outputs": [],
   "source": [
    "def add_items(n):\n",
    "    return n + n\n",
    "\n",
    "def add_items(n):\n",
    "    return n + n + n + n"
   ]
  },
  {
   "attachments": {},
   "cell_type": "markdown",
   "metadata": {},
   "source": [
    "#### __O(log(n))__\n",
    "\n",
    "That's actully represented by bi-section method.\n",
    "If we have 1000 element list and we are looking for one number in that list. What we do is that we split the list in halves and say in which half is the number we are looking fo. So in the worst case we'll do roughly __log(n)__ operations, in our case __12__ operations till we get to the 1 element from inital element with __1000__ elements:\n",
    "1000, 500, 250, 125, 63, 33, 17, 9, 5, 3, 2, 1.\n",
    "The cool thing is that for example: $\\log_2{1000000000}=31$ <br>\n",
    "__1B__ operations vs __O(log (n))__, so it is super efficient. <br>\n",
    "\n",
    "In most cases these are all big __Os__ that we need. But we'll also deal while working with sorting algorithms with __O(n*log(n))__ That's better than __O($n^2$)__, but worse than even __O(n)__\n"
   ]
  },
  {
   "attachments": {},
   "cell_type": "markdown",
   "metadata": {},
   "source": [
    "#### __Different Terms for Inputs__\n",
    "\n",
    "Look at the code below. For each for-loop we have not the same input __n__ as in previous examples, but we have __2__ input parameters that we can't simplify to just __n__. \n",
    "So when talking about complexity we say __O(a+b)__ for the first case. And __O(a*b)__ for the second case."
   ]
  },
  {
   "cell_type": "code",
   "execution_count": 14,
   "metadata": {},
   "outputs": [],
   "source": [
    "def print_items(a, b):\n",
    "    for i in range(a):\n",
    "        print(i)\n",
    "    for j in range(b):\n",
    "        print(j)\n",
    "        \n",
    "def print_items(a, b):\n",
    "    for i in range(a):\n",
    "        for j in range(b):\n",
    "            print(i, j)"
   ]
  },
  {
   "attachments": {},
   "cell_type": "markdown",
   "metadata": {},
   "source": [
    "#### __Big O of Lists__\n",
    "\n",
    "List is a common data structure so we need to understand its complexity."
   ]
  },
  {
   "cell_type": "code",
   "execution_count": 18,
   "metadata": {},
   "outputs": [],
   "source": [
    "my_list = [11, 2, 23, 7]\n"
   ]
  },
  {
   "attachments": {},
   "cell_type": "markdown",
   "metadata": {},
   "source": [
    "Each element in a list has its own index (0, 1, 2, 3) consecutively. And if we do an append operation we just add to this list an element and add a new index. That's a simple operation.\n",
    "\n",
    "The same goes for __pop()__ operation. We add or remove new element and new index to the end of the list and the complexity here is __O(1)__."
   ]
  },
  {
   "cell_type": "code",
   "execution_count": 19,
   "metadata": {},
   "outputs": [
    {
     "name": "stdout",
     "output_type": "stream",
     "text": [
      "[11, 2, 23, 7, 17]\n",
      "[11, 2, 23, 7]\n"
     ]
    }
   ],
   "source": [
    "my_list.append(17)\n",
    "print(my_list)\n",
    "\n",
    "my_list.pop()\n",
    "print(my_list)"
   ]
  },
  {
   "attachments": {},
   "cell_type": "markdown",
   "metadata": {},
   "source": [
    "But if we do __my_list.pop(0)__ and remove the first element in the list this way then the problem is that we have to re-index all the elements left in the list.\n",
    "Or if we do __my_list.insert(0, 11)__ this will cause reindexin of all the elements.\n",
    "The complexity in both cases is __O(n)__.\n",
    "\n",
    "__The recap__: adding or removing at the end of the list is __O(1)__ ; adding or removing at the start of the list is __O(n)__. \n",
    "We measure the worst case scenario that is why it does not matter if we insert an item at the middle of the list - it will still be __O(n)__."
   ]
  },
  {
   "cell_type": "code",
   "execution_count": 20,
   "metadata": {},
   "outputs": [
    {
     "name": "stdout",
     "output_type": "stream",
     "text": [
      "[2, 23, 7]\n",
      "[777, 2, 23, 7]\n"
     ]
    }
   ],
   "source": [
    "my_list.pop(0)\n",
    "print(my_list)\n",
    "\n",
    "my_list.insert(0, 777)\n",
    "print(my_list)"
   ]
  },
  {
   "attachments": {},
   "cell_type": "markdown",
   "metadata": {},
   "source": [
    "#### __Search for elements in a list__\n",
    "\n",
    "If we search for a value __7__ in a list this means that we'll search for a __7__ looping from list elements one by one. Thats __O(n)__ complexity.\n",
    "\n",
    "Though if we want to get an element by its index than it's just one operation. That's __O(1)__."
   ]
  },
  {
   "cell_type": "code",
   "execution_count": 24,
   "metadata": {},
   "outputs": [
    {
     "name": "stdout",
     "output_type": "stream",
     "text": [
      "Value 7 is located at 3 index\n",
      "Value located at index 3 is 7\n"
     ]
    }
   ],
   "source": [
    "for el_idx, el in enumerate(my_list):\n",
    "    if el == 7:\n",
    "        print(f\"Value {el} is located at {el_idx} index\")\n",
    "\n",
    "print(f\"Value located at index 3 is {my_list[3]}\")"
   ]
  },
  {
   "attachments": {},
   "cell_type": "markdown",
   "metadata": {},
   "source": [
    "#### __Big O wrap up__\n",
    "\n",
    "__Notabene__: when we talk about logs the basis of a log is __2__, so in our case log(n) means $\\log_2{n}$\n",
    "\n",
    "Let's say that our __n=100__<br>\n",
    "__O(1)__ = 1<br>\n",
    "__O(log(n))__ $\\approx$ 7<br>\n",
    "__O(n)__ = 100<br>\n",
    "__O($n^2$)__ = 10000<br>\n",
    "\n",
    "The __spread__ becomes even bigger (exponentially) when __n__ becomes larger.\n",
    "\n",
    "Let's say that our __n=1000__<br>\n",
    "__O(1)__ = 1<br>\n",
    "__O(log(n))__ $\\approx$ 10<br>\n",
    "__O(n)__ = 1000<br>\n",
    "__O($n^2$)__ = 1000000<br>\n",
    "\n",
    "__Names to remember__:\n",
    "__O(1)__ = \"Constant time\"<br>\n",
    "__O(log(n))__ = \"Divide and conquer\"<br>\n",
    "__O(n)__ = \"Proportional\"<br>\n",
    "__O($n^2$)__ = \"Loop within a loop\"<br>\n",
    "\n",
    "Big O cheatsheet:<br>\n",
    "https://www.bigocheatsheet.com/"
   ]
  },
  {
   "cell_type": "code",
   "execution_count": 29,
   "metadata": {},
   "outputs": [
    {
     "data": {
      "text/plain": [
       "9.965784284662087"
      ]
     },
     "execution_count": 29,
     "metadata": {},
     "output_type": "execute_result"
    }
   ],
   "source": [
    "import numpy as np\n",
    "\n",
    "o_log = np.log2(1000)\n",
    "o_log"
   ]
  }
 ],
 "metadata": {
  "kernelspec": {
   "display_name": "env",
   "language": "python",
   "name": "python3"
  },
  "language_info": {
   "codemirror_mode": {
    "name": "ipython",
    "version": 3
   },
   "file_extension": ".py",
   "mimetype": "text/x-python",
   "name": "python",
   "nbconvert_exporter": "python",
   "pygments_lexer": "ipython3",
   "version": "3.11.1"
  },
  "orig_nbformat": 4,
  "vscode": {
   "interpreter": {
    "hash": "9635963bf173f30a7a1551d18948988dafea1becee11109689c4fa1105ac58ef"
   }
  }
 },
 "nbformat": 4,
 "nbformat_minor": 2
}
