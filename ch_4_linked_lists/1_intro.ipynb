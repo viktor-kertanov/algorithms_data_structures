{
 "cells": [
  {
   "attachments": {},
   "cell_type": "markdown",
   "metadata": {},
   "source": [
    "#### __Linked List__\n",
    "\n",
    "The differences between a Python list and a linked-list:\n",
    "1. Python list is stored in memory as whole. All elements are close to each other. In Linked-list all the elements are scattered all over the place.\n",
    "2. No indexes in linked-lists.\n",
    "3. Along with values of a list we have a variable called __head__, this __head__ variable points to the first element in the list. __tail__ points to the last item.\n",
    "4. Each node (value) points to the next node. The last one points to __None__.\n",
    "5. In the memory the linked list is stored all over the place (not necessarily in one place or close to each other).  A Python list is stored in one place, some contigious place in memory (that is why we can have indexes in Python list -- everything is in the same place and close to each other).\n",
    "\n",
    "#### __Big O of Linked Lists (LL)__\n",
    "\n",
    "Appending to the end of the list is **O(1)** . The number of operations in order to add to the end is going to be the same.\n",
    "In order to __remove__ an element from the list we need **O(n)** operations, we need to iterate through each element to get to the last element.\n",
    "\n",
    "Appending an item to the __front__ of the list is __O(1)__. \n",
    "Removing from the __front__ is also __O(1)__.\n",
    "\n",
    "To add a node in the middle of the list, we need to iterate through each element, find what we are looking for. Then we point from the appended element to the next element. Then we change pointer from the previous element to point to the appended element.  \n",
    "For removing an element from the middle of the list it is kinda the same. For both the complexity it __O(n)__.\n",
    "\n",
    "Looking up an element is __O(n)__: we check each value and if it is not what we are looking for, then we move to the next node etc.  As there are no indexes per se in the linked list, this means looking up __by indexes__ (not by value) is also __O(n)__. \n",
    "\n",
    "__Popping up__ and element from the end and __looking up by index__ complexity is better in standard Python lists then in __LL__. \n",
    "\n",
    "#### __Under the hood__\n",
    "\n",
    "It is important to understand that __the node__ is both a __value__ and a __pointer__. We can think of it as a dictionary with {\"value\": 4, \"next\":  None}.\n",
    "If we think of the whol LL then we can imagine a big nested list. __\"head\"__ is the name of the dict and __tail__ points to the last item (Don't exactly understand \"how\" ). \n",
    "  "
   ]
  },
  {
   "cell_type": "code",
   "execution_count": 1,
   "metadata": {},
   "outputs": [
    {
     "name": "stdout",
     "output_type": "stream",
     "text": [
      "23\n"
     ]
    }
   ],
   "source": [
    "head = {\n",
    "    \"value\": 11, \n",
    "    \"next\": {\n",
    "        \"value\": 3,\n",
    "        \"next\": {\n",
    "            \"value\": 23,\n",
    "            \"next\": {\n",
    "                \"value\": 7,\n",
    "                \"next\": None \n",
    "            }\n",
    "        }\n",
    "    }\n",
    "}\n",
    "\n",
    "print(head[\"next\"][\"next\"][\"value\"])\n",
    "\n",
    "#actually we'll use syntax:  my_linked_list.head.next.next.value"
   ]
  },
  {
   "cell_type": "code",
   "execution_count": 8,
   "metadata": {},
   "outputs": [],
   "source": [
    "class Node:\n",
    "    def __init__(self, value):\n",
    "        self.value = value\n",
    "        self.next = None  \n",
    " \n",
    "\n",
    "class LinkedList:\n",
    "    def __init__(self, value):\n",
    "        new_node = Node(value)\n",
    "        self.head = new_node\n",
    "        self.tail = new_node \n",
    "        self.length = 1 \n",
    "    \n",
    "    def append(self, value):\n",
    "        new_node = Node(value)\n",
    "        \n",
    "        last_node = self.head\n",
    "        while last_node.next:\n",
    "            last_node = last_node.next\n",
    "        \n",
    "        last_node.next = new_node\n",
    "\n",
    "        self.tail = new_node\n",
    "        \n",
    "    \n",
    "    def prepend(self, value):\n",
    "        pass\n",
    "   \n",
    "    def insert(self, index, value):\n",
    "        pass  \n",
    "    \n",
    "    def print_list(self):\n",
    "        temp_var = self.head\n",
    "        while temp.next:\n",
    "            print(temp.value)\n",
    "            temp = self.next "
   ]
  },
  {
   "cell_type": "code",
   "execution_count": 10,
   "metadata": {},
   "outputs": [
    {
     "data": {
      "text/plain": [
       "4"
      ]
     },
     "execution_count": 10,
     "metadata": {},
     "output_type": "execute_result"
    }
   ],
   "source": [
    "my_linked_list = LinkedList(4)\n",
    "\n",
    "my_linked_list.head.value"
   ]
  }
 ],
 "metadata": {
  "kernelspec": {
   "display_name": "env",
   "language": "python",
   "name": "python3"
  },
  "language_info": {
   "codemirror_mode": {
    "name": "ipython",
    "version": 3
   },
   "file_extension": ".py",
   "mimetype": "text/x-python",
   "name": "python",
   "nbconvert_exporter": "python",
   "pygments_lexer": "ipython3",
   "version": "3.11.1"
  },
  "orig_nbformat": 4,
  "vscode": {
   "interpreter": {
    "hash": "9635963bf173f30a7a1551d18948988dafea1becee11109689c4fa1105ac58ef"
   }
  }
 },
 "nbformat": 4,
 "nbformat_minor": 2
}
